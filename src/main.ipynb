{
 "cells": [
  {
   "cell_type": "markdown",
   "id": "54f5319a-f0f3-4560-af75-86c91ec9453b",
   "metadata": {},
   "source": [
    "### A starting example"
   ]
  },
  {
   "cell_type": "code",
   "execution_count": 1,
   "id": "773de0dd-c780-44f4-9b20-71c0eae85773",
   "metadata": {},
   "outputs": [],
   "source": [
    "def plan_weekend_with_partner():\n",
    "    partner_response = ask_partner_about_weekend_plans()\n",
    "    partner_response2 = ask_if_want_to_eat_japanese(partner_response)\n",
    "    \n",
    "    # etc etc ....\n",
    "    \n",
    "def brainstorm_startup_ideas_with_friend():\n",
    "    friend_response = ask_friend_about_idea1()\n",
    "    outcome = discuss_more_details_about_idea1(friend_response)\n",
    "    \n",
    "    # etc etc ....   "
   ]
  },
  {
   "cell_type": "raw",
   "id": "cf34c03b-0795-49a5-b244-56d7867cd5a8",
   "metadata": {},
   "source": [
    "# synchronous execution\n",
    "plan_weekend_with_partner()\n",
    "brainstorm_startup_ideas_with_friend()\n",
    "\n",
    "# can we do better? can we do something else while waiting for a response?"
   ]
  },
  {
   "cell_type": "raw",
   "id": "7ef54890-99cf-4d53-8460-44441bb59cce",
   "metadata": {},
   "source": [
    "# pseudo code\n",
    "\n",
    "# something like...\n",
    "while wait_for_response_from_partner():\n",
    "    exit plan_weekend_with_partner() task\n",
    "    enter brainstorm_startup_ideas_with_friend() task \n",
    "    continue at where I left off\n"
   ]
  },
  {
   "cell_type": "raw",
   "id": "9be053eb-1935-4964-bbed-abd98adb3b5e",
   "metadata": {},
   "source": [
    "# how to keep track of my progress in each task???\n",
    "# how do I seamlessly suspend execution of a function, exit it, and then return to it sometime later???"
   ]
  },
  {
   "cell_type": "markdown",
   "id": "87cfd83e-2ee3-4954-8465-f050d4b509cd",
   "metadata": {},
   "source": [
    "### Generators"
   ]
  },
  {
   "cell_type": "code",
   "execution_count": 2,
   "id": "2673972e-629a-42a0-9bd0-26916a704599",
   "metadata": {},
   "outputs": [],
   "source": [
    "def generator():\n",
    "    yield \"hello1\"\n",
    "    yield \"hello2\"\n",
    "    yield \"hello3\""
   ]
  },
  {
   "cell_type": "code",
   "execution_count": 3,
   "id": "c6fc9ca6-0d73-41bb-9c4e-638efad77e88",
   "metadata": {},
   "outputs": [],
   "source": [
    "def main():\n",
    "\n",
    "    g = generator()\n",
    "    \n",
    "    print(next(g))\n",
    "    \n",
    "    print(\"now we are in the main function!\")\n",
    "    \n",
    "    print(\"pick up where we left off in the generator...\")\n",
    "    print(next(g))\n",
    "    \n",
    "    print(next(g))"
   ]
  },
  {
   "cell_type": "code",
   "execution_count": 4,
   "id": "7c297861-56cb-4468-bc28-174a6cb9c895",
   "metadata": {},
   "outputs": [
    {
     "name": "stdout",
     "output_type": "stream",
     "text": [
      "hello1\n",
      "now we are in the main function!\n",
      "pick up where we left off in the generator...\n",
      "hello2\n",
      "hello3\n"
     ]
    }
   ],
   "source": [
    "main()"
   ]
  },
  {
   "cell_type": "markdown",
   "id": "acdf3811-d858-42cd-ad71-811f8e75bc69",
   "metadata": {},
   "source": [
    "### Asyncio example"
   ]
  },
  {
   "cell_type": "code",
   "execution_count": 5,
   "id": "f8fa13e0-091c-4134-b837-2e4776f7a75c",
   "metadata": {},
   "outputs": [
    {
     "name": "stdout",
     "output_type": "stream",
     "text": [
      "One\n",
      "One\n",
      "One\n",
      "Two\n",
      "Two\n",
      "Two\n",
      "Executed in 1.01 seconds.\n"
     ]
    }
   ],
   "source": [
    "# taken from https://realpython.com/async-io-python/#the-10000-foot-view-of-async-io\n",
    "import asyncio\n",
    "import time\n",
    "\n",
    "async def count():\n",
    "    print(\"One\")\n",
    "    await asyncio.sleep(1)\n",
    "    print(\"Two\")\n",
    "\n",
    "async def main():\n",
    "    await asyncio.gather(count(), count(), count()) # execute three tasks concurrently \n",
    "\n",
    "    \n",
    "s = time.perf_counter()\n",
    "await main()\n",
    "elapsed = time.perf_counter() - s\n",
    "print(f\"Executed in {elapsed:0.2f} seconds.\")"
   ]
  },
  {
   "cell_type": "raw",
   "id": "d74bf1fe-a936-47b9-b4da-fa4402224592",
   "metadata": {},
   "source": [
    "it's all about passing control from one function to another... \n",
    "\n",
    "compare `yield` and `await`\n",
    "\n",
    "\n",
    "`async def` -> asyncio coroutine. They function like generators.  "
   ]
  },
  {
   "cell_type": "raw",
   "id": "03dc0a8c-ff7f-46fe-aad1-7337035f2a8c",
   "metadata": {},
   "source": [
    "To take note!!!\n",
    "\n",
    "Asyncio library does not really speed up your code...\n",
    "It just provides a smart way to schedule execution of your tasks..."
   ]
  },
  {
   "cell_type": "raw",
   "id": "c651bfb7-d40b-4ebc-8db8-d34f6aa96d51",
   "metadata": {},
   "source": [
    "an executor that manages the tasks - when it starts, pauses, resumes etc ... the event loop!\n",
    "\n",
    "event loop is like the central execution unit"
   ]
  },
  {
   "cell_type": "code",
   "execution_count": 10,
   "id": "78256ee9-ce79-4057-868c-a9fcb90e83ba",
   "metadata": {},
   "outputs": [
    {
     "data": {
      "text/plain": [
       "<_UnixSelectorEventLoop running=True closed=False debug=False>"
      ]
     },
     "execution_count": 10,
     "metadata": {},
     "output_type": "execute_result"
    }
   ],
   "source": [
    "# jupyter notebook kernels are running in an event loop\n",
    "async def main():\n",
    "    await asyncio.sleep(1)\n",
    "    print('hello')\n",
    "\n",
    "# asyncio.run(main()) # does not work \n",
    "# await main() # works\n",
    "asyncio.get_running_loop()"
   ]
  },
  {
   "cell_type": "markdown",
   "id": "ce0fa641-a4ff-4294-b5a3-319be9764532",
   "metadata": {},
   "source": [
    "### An example with asyncio \n",
    "\n",
    "Chaining synchronous and asynchronous code"
   ]
  },
  {
   "cell_type": "code",
   "execution_count": 6,
   "id": "ebf38e1a-f5ca-4a5f-b40c-85507f974c7f",
   "metadata": {},
   "outputs": [
    {
     "name": "stdout",
     "output_type": "stream",
     "text": [
      "Starting slow task, stage 1\n",
      "Starting fast task, stage 1\n",
      "Received fast task result: Fast task result, stage 1\n",
      "Fast task complete\n",
      "Received slow task result: Slow task result, stage 1\n",
      "Slow task complete\n"
     ]
    },
    {
     "data": {
      "text/plain": [
       "[None, None]"
      ]
     },
     "execution_count": 6,
     "metadata": {},
     "output_type": "execute_result"
    }
   ],
   "source": [
    "import asyncio\n",
    "\n",
    "# chaining \n",
    "# adapted example from https://pymotw.com/3/asyncio/coroutines.html#chaining-coroutines\n",
    "\n",
    "async def my_slow_task():\n",
    "\n",
    "    _slow_task_result = await slow_task_stage_1()\n",
    "    slow_task_stage_2(_slow_task_result)\n",
    "    \n",
    "    return None\n",
    "\n",
    "async def slow_task_stage_1():\n",
    "    print('Starting slow task, stage 1')\n",
    "    await asyncio.sleep(10)\n",
    "    return 'Slow task result, stage 1'\n",
    "\n",
    "# mixing sync code with async code! \n",
    "def slow_task_stage_2(arg):\n",
    "    print(f'Received slow task result: {arg}')\n",
    "    print('Slow task complete')\n",
    "    \n",
    "async def my_fast_task():\n",
    "    _fast_task_result = await fast_task_stage_1()\n",
    "    fast_task_stage_2(_fast_task_result)\n",
    "    \n",
    "    return None\n",
    "\n",
    "async def fast_task_stage_1():\n",
    "    print('Starting fast task, stage 1')\n",
    "    await asyncio.sleep(1)\n",
    "    return 'Fast task result, stage 1'\n",
    "\n",
    "# mixing sync code with async code! \n",
    "def fast_task_stage_2(arg):\n",
    "    print(f'Received fast task result: {arg}')\n",
    "    print('Fast task complete')\n",
    "\n",
    "# run tasks concurrently\n",
    "await asyncio.gather(my_slow_task(), my_fast_task())"
   ]
  },
  {
   "cell_type": "raw",
   "id": "93fe243a-431e-403a-96d6-7c5c9e397243",
   "metadata": {},
   "source": [
    "More questions and exploration!\n",
    "\n",
    "Can I further speed up task execution (in the starting example)"
   ]
  },
  {
   "cell_type": "raw",
   "id": "968f087d-6544-4428-9ae4-e784533f8667",
   "metadata": {},
   "source": [
    "To answer these, we have to first understand that asyncio work on a single thread...\n",
    "Think thread as an execution flow/ (very crudely) a sequence of instructions "
   ]
  },
  {
   "cell_type": "code",
   "execution_count": null,
   "id": "24b953e7-10d6-4447-94b7-0fe121b11e2b",
   "metadata": {},
   "outputs": [],
   "source": [
    "# back to our starting example \n",
    "\n",
    "async def plan_weekend_with_partner():\n",
    "    partner_response = await ask_partner_about_weekend_plans()\n",
    "    partner_response2 = await ask_if_want_to_eat_japanese(partner_response)\n",
    "    \n",
    "    # etc etc ....\n",
    "    \n",
    "async def brainstorm_startup_ideas_with_friend():\n",
    "    friend_response = await ask_friend_about_idea1()\n",
    "    outcome = await discuss_more_details_about_idea1(friend_response)\n",
    "    \n",
    "    # etc etc ....    \n",
    "    \n",
    "await asyncio.gather(plan_weekend_with_partner(), brainstorm_startup_ideas_with_friend())\n",
    "\n",
    "# execution on a single thread\n",
    "# thread switches between multiple tasks \n",
    "# task are executed one after the other in a thread (with asyncio, consecutive tasks can come from different functions)\n",
    "\n",
    "# what happens when you have two threads?"
   ]
  },
  {
   "cell_type": "markdown",
   "id": "fc8e4943-5cf5-411b-a406-272a9f85dc6c",
   "metadata": {},
   "source": [
    "![](images/write-both-hands.png)"
   ]
  },
  {
   "cell_type": "raw",
   "id": "3d6c9415-348f-4bc0-82c5-cd86221aa976",
   "metadata": {},
   "source": [
    "how else can i talk to my partner and my friend at the same time????\n",
    "\n",
    "ideas:\n",
    "- use two threads! (multithreading)\n",
    "- or... delegate the task of brainstorming startup ideas to another person (multiprocessing)\n",
    "\n",
    "pros and cons of each approach???"
   ]
  },
  {
   "cell_type": "raw",
   "id": "926418a3-59bc-4113-9617-27209e3febae",
   "metadata": {},
   "source": [
    "think of a person as a process\n",
    "\n",
    "think a process as a application/computer program \n",
    "\n",
    "each process has its own memory space\n",
    "\n",
    "additional hassle to transfer information between multiple processes"
   ]
  },
  {
   "cell_type": "raw",
   "id": "3dd0c5cc-9838-4bdc-b1e0-e1d0e9563dc3",
   "metadata": {},
   "source": [
    "Threads are more lightweight and easy to create!\n",
    "\n",
    "Easier to switch between threads... suitable in situations with a lot of waiting\n",
    "\"while you wait, i can do something else\""
   ]
  },
  {
   "cell_type": "raw",
   "id": "eb655667-89ab-4243-8038-f1cb66fd9b37",
   "metadata": {},
   "source": [
    "BRAIN FRIED???\n",
    "\n",
    "Processes vs Cores vs CPU vs Threads\n",
    "\n",
    "One CPU can have multiple cores\n",
    "One core can have multiple processes\n",
    "One process is occupied by one python interpreter\n",
    "One process can have multilple threads\n"
   ]
  },
  {
   "cell_type": "raw",
   "id": "f87c9e28-a905-4f3a-a4d1-616c6641de99",
   "metadata": {},
   "source": [
    "How do multiple threads cooperate with each other???\n",
    "\n",
    "- Cooperative multitasking: Thread needs to announce before they are switched out\n",
    "- Preemptive multitasking: OS can stop and start a new thread"
   ]
  },
  {
   "cell_type": "raw",
   "id": "63f38ef8-0f73-4270-881f-22e5fdc2c2ff",
   "metadata": {},
   "source": [
    "Danger of using multi threads in the same process: race conditions\n",
    "\n",
    "Remember: all threads in the same process can access the process memory \n",
    "\n",
    "a = 2  # object in shared memory\n",
    "thread_one: a = a + 2\n",
    "thread_two: a = a * 3\n",
    "\n",
    "Execute thread_one -> thread_two:\n",
    "a = 2 + 2, a is now 4.\n",
    "a = 4 * 3, a is now 12.\n",
    "\n",
    "Execute thread_two -> thread_one:\n",
    "a = 2 * 3, a is now 6\n",
    "a = 6 + 2, a is now 8\n",
    "\n",
    "\n",
    "(╯°□°)╯︵ ┻━┻\n",
    "\n",
    "Example from: https://python.land/python-concurrency/the-python-gil"
   ]
  },
  {
   "cell_type": "raw",
   "id": "9abcb086-e70c-49e2-9ceb-fae5f03855b6",
   "metadata": {},
   "source": [
    "Python GIL: prevents two threads in the same process from executing at the same time = no parallelism even though you have many cores..."
   ]
  },
  {
   "cell_type": "markdown",
   "id": "77e311d3-9ddd-4b16-95b9-a5b6c629dfc5",
   "metadata": {},
   "source": [
    "![](images/gil-2CPU.png)\n",
    "Image from _http://dabeaz.blogspot.com/2010/01/python-gil-visualized.html_"
   ]
  },
  {
   "cell_type": "raw",
   "id": "e3419350-20f4-4b27-8133-3dbfb1d83dd4",
   "metadata": {},
   "source": [
    "With GIL, using multiple threads might actually slow down code execution, because of context switching between threads!"
   ]
  },
  {
   "cell_type": "markdown",
   "id": "031bf7e2-ea80-4d9e-ac24-5df64ab5481e",
   "metadata": {},
   "source": [
    "![](images/gil-thread.png)\n",
    "Image from _https://www.youtube.com/watch?v=Obt-vMVdM8s&ab_channel=DavidBeazley_"
   ]
  },
  {
   "cell_type": "markdown",
   "id": "df25eaf3-c254-43c1-991f-1f486da0b05b",
   "metadata": {},
   "source": [
    "![](images/gil-cpu.png)\n",
    "Image from https://www.youtube.com/watch?v=Obt-vMVdM8s&ab_channel=DavidBeazley"
   ]
  },
  {
   "cell_type": "raw",
   "id": "3dcdaa7e-9130-46d0-a48b-d47ca446ba2a",
   "metadata": {},
   "source": [
    "How to bypass GIL?\n",
    "- Use a different interpreter (JPython)\n",
    "- Use multiprocessing"
   ]
  },
  {
   "cell_type": "raw",
   "id": "a5b7d1ec-3842-4eed-92ba-10aea60ac349",
   "metadata": {},
   "source": [
    "When to use multithreading, when to use multiprocessing?\n",
    "\n",
    "- User interaction / I/O bound / communication across a network (that involve a lot of waiting)\n",
    "- CPU bound process (doing math problems)"
   ]
  },
  {
   "cell_type": "markdown",
   "id": "22e09294-2db9-4e72-8b4f-2851d73086c9",
   "metadata": {},
   "source": [
    "### Bonus"
   ]
  },
  {
   "cell_type": "markdown",
   "id": "b6921701-349e-49e4-8393-7910b10ae92e",
   "metadata": {},
   "source": [
    "Multithreading + asyncio : https://bbc.github.io/cloudfit-public-docs/asyncio/asyncio-part-5.html#executors-and-multithreading"
   ]
  },
  {
   "cell_type": "markdown",
   "id": "f69b679e-2d39-4e0a-8492-924079ad3ae9",
   "metadata": {},
   "source": [
    "### More resources\n",
    "\n",
    "    https://stackoverflow.com/questions/5201852/what-is-a-thread-really\n",
    "    https://blog.floydhub.com/multiprocessing-vs-threading-in-python-what-every-data-scientist-needs-to-know/\n",
    "    https://medium.com/fintechexplained/advanced-python-concurrency-and-parallelism-82e378f26cedhttps://medium.com/fintechexplained/advanced-python-concurrency-and-parallelism-82e378f26ced"
   ]
  }
 ],
 "metadata": {
  "kernelspec": {
   "display_name": "Python 3",
   "language": "python",
   "name": "python3"
  },
  "language_info": {
   "codemirror_mode": {
    "name": "ipython",
    "version": 3
   },
   "file_extension": ".py",
   "mimetype": "text/x-python",
   "name": "python",
   "nbconvert_exporter": "python",
   "pygments_lexer": "ipython3",
   "version": "3.9.0"
  }
 },
 "nbformat": 4,
 "nbformat_minor": 5
}
